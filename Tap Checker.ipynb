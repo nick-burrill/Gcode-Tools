{
 "cells": [
  {
   "cell_type": "code",
   "execution_count": null,
   "metadata": {},
   "outputs": [],
   "source": [
    "# TODO: Load file\n",
    "#       Find and isolate code for rigid tapping\n",
    "#       Interpret information from isolated code\n",
    "#       Print tapping pitch in imperial and metric\n"
   ]
  },
  {
   "cell_type": "code",
   "execution_count": 2,
   "metadata": {},
   "outputs": [],
   "source": [
    "import os\n",
    "from rich import print\n",
    "\n",
    "# Anatomy of gcode:\n",
    "# Optional stop\n",
    "# Tool change\n",
    "# Spindle speed / rotation\n",
    "# Positioning offsets/ coolant\n",
    "# Positioning\n",
    "# Canned cycle\n",
    "\n",
    "# Should probably:\n",
    "# Find each instance of G84 tapping cycle,\n",
    "# Collect feed value,\n",
    "# Scroll up until, record closest preceeding rpm and if M29 has been used\n",
    "# Stop scrolling at tool change M06\n"
   ]
  },
  {
   "cell_type": "code",
   "execution_count": 49,
   "metadata": {},
   "outputs": [
    {
     "data": {
      "text/html": [
       "<pre style=\"white-space:pre;overflow-x:auto;line-height:normal;font-family:Menlo,'DejaVu Sans Mono',consolas,'Courier New',monospace\">rigid tapping indexes:\n",
       "<span style=\"font-weight: bold\">[</span><span style=\"color: #008080; text-decoration-color: #008080; font-weight: bold\">110</span>, <span style=\"color: #008080; text-decoration-color: #008080; font-weight: bold\">227</span>, <span style=\"color: #008080; text-decoration-color: #008080; font-weight: bold\">282</span>, <span style=\"color: #008080; text-decoration-color: #008080; font-weight: bold\">353</span>, <span style=\"color: #008080; text-decoration-color: #008080; font-weight: bold\">390</span>, <span style=\"color: #008080; text-decoration-color: #008080; font-weight: bold\">427</span>, <span style=\"color: #008080; text-decoration-color: #008080; font-weight: bold\">504</span>, <span style=\"color: #008080; text-decoration-color: #008080; font-weight: bold\">588</span>, <span style=\"color: #008080; text-decoration-color: #008080; font-weight: bold\">688</span>, <span style=\"color: #008080; text-decoration-color: #008080; font-weight: bold\">781</span><span style=\"font-weight: bold\">]</span>\n",
       "</pre>\n"
      ],
      "text/plain": [
       "rigid tapping indexes:\n",
       "\u001b[1m[\u001b[0m\u001b[1;36m110\u001b[0m, \u001b[1;36m227\u001b[0m, \u001b[1;36m282\u001b[0m, \u001b[1;36m353\u001b[0m, \u001b[1;36m390\u001b[0m, \u001b[1;36m427\u001b[0m, \u001b[1;36m504\u001b[0m, \u001b[1;36m588\u001b[0m, \u001b[1;36m688\u001b[0m, \u001b[1;36m781\u001b[0m\u001b[1m]\u001b[0m\n"
      ]
     },
     "metadata": {},
     "output_type": "display_data"
    }
   ],
   "source": [
    "# Open file in read mode\n",
    "with open(\"1001.nc\", 'r') as file:\n",
    "    lines = file.readlines()\n",
    "\n",
    "# Find all lines with tool changes\n",
    "toolChangeIndexes = []\n",
    "for lineIndex, line in enumerate(lines):\n",
    "    if line.find(\"M06\") != -1:\n",
    "        toolChangeIndexes.append(lineIndex)\n",
    "        # print(lineIndex, line)\n",
    "# print(\"tool change indexes:\", toolChangeIndexes)\n",
    "# This above may be completly un needed lmao\n",
    "\n",
    "\n",
    "# Determine if each tool change has a tapping cycle or not\n",
    "rigidTappingIndexes = []\n",
    "for lineIndex, line in enumerate(lines):\n",
    "    if line.find(\"G84\") != -1:\n",
    "        rigidTappingIndexes.append(lineIndex+1)\n",
    "        # print(lineIndex, line)\n",
    "print(\"rigid tapping indexes:\", rigidTappingIndexes)\n",
    "\n",
    "# Now that we know where the rigid tapping is called we can go to each index and scroll up until we read a M06 line, and we will interpret the data from each line as we go\n",
    "allData = []\n",
    "\n",
    "for tappingCycle in rigidTappingIndexes:\n",
    "    feedPerRev = False\n",
    "    Feed = 0\n",
    "    FeedFound = False\n",
    "    RPM = 0\n",
    "    RPMFound = False\n",
    "    Tool = 0\n",
    "    toolFound = 0\n",
    "    \n",
    "    readLine = tappingCycle\n",
    "\n",
    "    while lines[readLine].find(\"M06\") == -1:\n",
    "        # print(lines[readLine])\n",
    "        readLine = readLine - 1\n",
    "        if lines[readLine].find(\"G95\") != -1:\n",
    "            feedPerRev = True\n",
    "        if lines[readLine].find(\"F\") != -1 and FeedFound == False:\n",
    "            Feed = lines[readLine][lines[readLine].index('F')+1:].strip()\n",
    "            Feed = float(Feed)\n",
    "            FeedFound = True\n",
    "        if lines[readLine].find(\"S\") != -1 and RPMFound == False:\n",
    "            RPM = lines[readLine][lines[readLine].index('S')+1:].strip()\n",
    "            RPM = float(RPM)\n",
    "            RPMFound = True\n",
    "        if lines[readLine].find(\"T\") != -1 and toolFound == False:\n",
    "            Tool = lines[readLine][lines[readLine].index('T')+1:].strip()\n",
    "            Tool = Tool.replace(\"M06\",'')\n",
    "            Tool = int(Tool)\n",
    "            RPMFound = True\n",
    "\n",
    "    if feedPerRev == True:\n",
    "        iPitch = Feed\n",
    "        mPitch = Feed*25.4\n",
    "    else:\n",
    "        iPitch = RPM/Feed\n",
    "        mPitch = Feed/RPM*25.4\n",
    "\n",
    "    data = {\"ToolNum\": str(Tool),\n",
    "            \"RPM\":str(RPM),\n",
    "            \"Feed\":str(Feed),\n",
    "            \"Feed/Rev\":feedPerRev,\n",
    "            \"Metric Pitch\": str(mPitch),\n",
    "            \"Imperial Pitch\": str(iPitch)}\n",
    "    allData.append(data)\n",
    "    # print(data)    \n",
    "    # print(\"read lines:\",tappingCycle,\"to\",readLine)\n",
    "    # print(lines[readLine:tappingCycle]) \n",
    "\n",
    "allData.reverse()\n",
    "# print(allData)\n",
    "    \n"
   ]
  },
  {
   "cell_type": "code",
   "execution_count": 50,
   "metadata": {},
   "outputs": [
    {
     "data": {
      "text/html": [
       "<pre style=\"white-space:pre;overflow-x:auto;line-height:normal;font-family:Menlo,'DejaVu Sans Mono',consolas,'Courier New',monospace\">┏━━━━━━┳━━━━━━━┳━━━━━━┳━━━━━━━━━━━━━━━━━━━━━┳━━━━━━━━━━━━━━━━━━━━┓\n",
       "┃<span style=\"font-weight: bold\"> Tool </span>┃<span style=\"font-weight: bold\"> RPM   </span>┃<span style=\"font-weight: bold\"> Feed </span>┃<span style=\"font-weight: bold\"> Metric Pitch        </span>┃<span style=\"font-weight: bold\"> Imperial Pitch     </span>┃\n",
       "┡━━━━━━╇━━━━━━━╇━━━━━━╇━━━━━━━━━━━━━━━━━━━━━╇━━━━━━━━━━━━━━━━━━━━┩\n",
       "│ 3    │ 500.0 │ 7.9  │ 0.40132             │ 63.291139240506325 │\n",
       "│ 5    │ 500.0 │ 9.8  │ 0.49784000000000006 │ 51.0204081632653   │\n",
       "│ 8    │ 500.0 │ 13.8 │ 0.70104             │ 36.231884057971016 │\n",
       "│ 11   │ 500.0 │ 15.7 │ 0.7975599999999999  │ 31.847133757961785 │\n",
       "│ 14   │ 500.0 │ 19.7 │ 1.0007599999999999  │ 25.38071065989848  │\n",
       "│ 27   │ 500.0 │ 25.0 │ 1.27                │ 20.0               │\n",
       "│ 29   │ 500.0 │ 15.6 │ 0.79248             │ 32.05128205128205  │\n",
       "│ 17   │ 500.0 │ 19.7 │ 1.0007599999999999  │ 25.38071065989848  │\n",
       "│ 20   │ 500.0 │ 24.6 │ 1.24968             │ 20.32520325203252  │\n",
       "│ 25   │ 500.0 │ 29.5 │ 1.4986              │ 16.949152542372882 │\n",
       "└──────┴───────┴──────┴─────────────────────┴────────────────────┘\n",
       "</pre>\n"
      ],
      "text/plain": [
       "┏━━━━━━┳━━━━━━━┳━━━━━━┳━━━━━━━━━━━━━━━━━━━━━┳━━━━━━━━━━━━━━━━━━━━┓\n",
       "┃\u001b[1m \u001b[0m\u001b[1mTool\u001b[0m\u001b[1m \u001b[0m┃\u001b[1m \u001b[0m\u001b[1mRPM  \u001b[0m\u001b[1m \u001b[0m┃\u001b[1m \u001b[0m\u001b[1mFeed\u001b[0m\u001b[1m \u001b[0m┃\u001b[1m \u001b[0m\u001b[1mMetric Pitch       \u001b[0m\u001b[1m \u001b[0m┃\u001b[1m \u001b[0m\u001b[1mImperial Pitch    \u001b[0m\u001b[1m \u001b[0m┃\n",
       "┡━━━━━━╇━━━━━━━╇━━━━━━╇━━━━━━━━━━━━━━━━━━━━━╇━━━━━━━━━━━━━━━━━━━━┩\n",
       "│ 3    │ 500.0 │ 7.9  │ 0.40132             │ 63.291139240506325 │\n",
       "│ 5    │ 500.0 │ 9.8  │ 0.49784000000000006 │ 51.0204081632653   │\n",
       "│ 8    │ 500.0 │ 13.8 │ 0.70104             │ 36.231884057971016 │\n",
       "│ 11   │ 500.0 │ 15.7 │ 0.7975599999999999  │ 31.847133757961785 │\n",
       "│ 14   │ 500.0 │ 19.7 │ 1.0007599999999999  │ 25.38071065989848  │\n",
       "│ 27   │ 500.0 │ 25.0 │ 1.27                │ 20.0               │\n",
       "│ 29   │ 500.0 │ 15.6 │ 0.79248             │ 32.05128205128205  │\n",
       "│ 17   │ 500.0 │ 19.7 │ 1.0007599999999999  │ 25.38071065989848  │\n",
       "│ 20   │ 500.0 │ 24.6 │ 1.24968             │ 20.32520325203252  │\n",
       "│ 25   │ 500.0 │ 29.5 │ 1.4986              │ 16.949152542372882 │\n",
       "└──────┴───────┴──────┴─────────────────────┴────────────────────┘\n"
      ]
     },
     "metadata": {},
     "output_type": "display_data"
    }
   ],
   "source": [
    "from rich.console import Console\n",
    "from rich.table import Table\n",
    "\n",
    "console = Console()\n",
    "table = Table(show_header=True)\n",
    "table.add_column(\"Tool\")\n",
    "table.add_column(\"RPM\")\n",
    "table.add_column(\"Feed\")\n",
    "table.add_column(\"Metric Pitch\")\n",
    "table.add_column(\"Imperial Pitch\")\n",
    "for tool in allData:\n",
    "    table.add_row(tool[\"ToolNum\"],tool[\"RPM\"],tool[\"Feed\"],tool[\"Metric Pitch\"],tool[\"Imperial Pitch\"])\n",
    "console.print(table)"
   ]
  }
 ],
 "metadata": {
  "interpreter": {
   "hash": "cc4f6f030713593d3b14d7228889045db0665726e29f3a519144959e4f12e03e"
  },
  "kernelspec": {
   "display_name": "Python 3.9.10 64-bit (windows store)",
   "language": "python",
   "name": "python3"
  },
  "language_info": {
   "codemirror_mode": {
    "name": "ipython",
    "version": 3
   },
   "file_extension": ".py",
   "mimetype": "text/x-python",
   "name": "python",
   "nbconvert_exporter": "python",
   "pygments_lexer": "ipython3",
   "version": "3.10.1"
  },
  "orig_nbformat": 4
 },
 "nbformat": 4,
 "nbformat_minor": 2
}
