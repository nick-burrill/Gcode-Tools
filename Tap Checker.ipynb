{
 "cells": [
  {
   "cell_type": "code",
   "execution_count": null,
   "metadata": {},
   "outputs": [],
   "source": [
    "# First attempt at an interpreter\n",
    "# We will still find the G84 and index their line numbers\n",
    "# But we will do a word by word interpretation after\n",
    "# \"Words\" are commands seperated by spaces\n",
    "# Every word will have a space or newline following it, OR will start with a significant character like G,M,T,H,D etc\n",
    "# We will define classes for the following:\n",
    "#       Reading a line and putting it into an array of words\n",
    "#       Reading an array of words for certain key words and their synonyms (M6 = M06)\n",
    "#           Sepereate letter codes (M00006 = M code #6)"
   ]
  },
  {
   "cell_type": "code",
   "execution_count": 2,
   "metadata": {},
   "outputs": [],
   "source": [
    "# Open file in read mode\n",
    "from rich import print\n",
    "\n",
    "filePath = \"Sample Gcode/Solidworks/CGIP11719.NC\"\n",
    "\n",
    "with open(filePath, 'r') as file:\n",
    "    lines = file.readlines()"
   ]
  },
  {
   "cell_type": "code",
   "execution_count": 48,
   "metadata": {},
   "outputs": [
    {
     "data": {
      "text/html": [
       "<pre style=\"white-space:pre;overflow-x:auto;line-height:normal;font-family:Menlo,'DejaVu Sans Mono',consolas,'Courier New',monospace\">Original: G98 G84X-<span style=\"color: #000080; font-weight: bold\">42.0037</span> Y-<span style=\"color: #000080; font-weight: bold\">3.1013</span> Z0.<span style=\"color: #000080; font-weight: bold\">0376</span> R0.<span style=\"color: #000080; font-weight: bold\">85</span> P0F0.<span style=\"color: #000080; font-weight: bold\">02756</span>\n",
       "\n",
       "</pre>\n"
      ],
      "text/plain": [
       "<rich.jupyter.JupyterRenderable at 0x2687356e880>"
      ]
     },
     "metadata": {},
     "output_type": "display_data"
    },
    {
     "data": {
      "text/html": [
       "<pre style=\"white-space:pre;overflow-x:auto;line-height:normal;font-family:Menlo,'DejaVu Sans Mono',consolas,'Courier New',monospace\">Word list:\n",
       "<span style=\"font-weight: bold\">[</span><span style=\"color: #008000\">'G98'</span>, <span style=\"color: #008000\">'G84'</span>, <span style=\"color: #008000\">'X-42.0037'</span>, <span style=\"color: #008000\">'Y-3.1013'</span>, <span style=\"color: #008000\">'Z0.0376'</span>, <span style=\"color: #008000\">'R0.85'</span>, <span style=\"color: #008000\">'P0'</span>, <span style=\"color: #008000\">'F0.02756'</span><span style=\"font-weight: bold\">]</span>\n",
       "</pre>\n"
      ],
      "text/plain": [
       "<rich.jupyter.JupyterRenderable at 0x2687356eaf0>"
      ]
     },
     "metadata": {},
     "output_type": "display_data"
    }
   ],
   "source": [
    "# Separate one line into individual keywords\n",
    "testLine = lines[807]\n",
    "print(\"Original:\",testLine)\n",
    "# List of letters words start with:\n",
    "\n",
    "def readLine(line):\n",
    "    codeList = ['G','M','T','S','F','X','Y','Z','H','D','N','R','P']\n",
    "    newWord = \"\"\n",
    "    wordList = []\n",
    "    for i, char in enumerate(line):\n",
    "        if char in codeList or char == \"\\n\" or char == \" \":\n",
    "            if newWord != \"\" and newWord != \" \":\n",
    "                wordList.append(newWord)\n",
    "            newWord = \"\"\n",
    "        newWord += char\n",
    "    return(wordList)\n",
    "\n",
    "testResult = readLine(testLine)\n",
    "print(\"Word list:\", testResult)"
   ]
  },
  {
   "cell_type": "code",
   "execution_count": 49,
   "metadata": {},
   "outputs": [],
   "source": [
    "# Now we need to read a word list and interpret information. The file has to be read upwards from the line containing the G84 to use the most recent feeds, speeds, and tool numbers\n",
    "\n",
    "# Set all values to false every time they are reset\n",
    "valueDict = {\"feed\":False, \"rpm\":False, \"tool\":False}\n",
    "\n",
    "def readWords(words, values):\n",
    "    for word in words:\n",
    "        letter = word[0] # Separate key letter from value\n",
    "        value = word[1:]\n",
    "\n",
    "        if letter == 'F':\n",
    "            if values[\"feed\"] == False:\n",
    "                values[\"feed\"] = value\n",
    "        elif letter == 'S':\n",
    "            if values[\"rpm\"]== False:\n",
    "                values[\"rpm\"] = value\n",
    "        elif letter == 'T':\n",
    "            if values[\"tool\"] == False:\n",
    "                values[\"tool\"] = value\n",
    "        # print((letter,value))\n",
    "    return(values)\n",
    "\n"
   ]
  },
  {
   "cell_type": "code",
   "execution_count": 50,
   "metadata": {},
   "outputs": [
    {
     "data": {
      "text/html": [
       "<pre style=\"white-space:pre;overflow-x:auto;line-height:normal;font-family:Menlo,'DejaVu Sans Mono',consolas,'Courier New',monospace\"><span style=\"font-weight: bold\">[</span>\n",
       "    <span style=\"font-weight: bold\">{</span><span style=\"color: #008000\">'feed'</span>: <span style=\"color: #008000\">'0.02756'</span>, <span style=\"color: #008000\">'rpm'</span>: <span style=\"color: #008000\">'200'</span>, <span style=\"color: #008000\">'tool'</span>: <span style=\"color: #008000\">'20'</span><span style=\"font-weight: bold\">}</span>,\n",
       "    <span style=\"font-weight: bold\">{</span><span style=\"color: #008000\">'feed'</span>: <span style=\"color: #008000\">'0.0689'</span>, <span style=\"color: #008000\">'rpm'</span>: <span style=\"color: #008000\">'100'</span>, <span style=\"color: #008000\">'tool'</span>: <span style=\"color: #008000\">'13'</span><span style=\"font-weight: bold\">}</span>,\n",
       "    <span style=\"font-weight: bold\">{</span><span style=\"color: #008000\">'feed'</span>: <span style=\"color: #008000\">'0.049215'</span>, <span style=\"color: #008000\">'rpm'</span>: <span style=\"color: #008000\">'200'</span>, <span style=\"color: #008000\">'tool'</span>: <span style=\"color: #008000\">'07'</span><span style=\"font-weight: bold\">}</span>,\n",
       "    <span style=\"font-weight: bold\">{</span><span style=\"color: #008000\">'feed'</span>: <span style=\"color: #008000\">'0.031495'</span>, <span style=\"color: #008000\">'rpm'</span>: <span style=\"color: #008000\">'200'</span>, <span style=\"color: #008000\">'tool'</span>: <span style=\"color: #008000\">'15'</span><span style=\"font-weight: bold\">}</span>\n",
       "<span style=\"font-weight: bold\">]</span>\n",
       "</pre>\n"
      ],
      "text/plain": [
       "<rich.jupyter.JupyterRenderable at 0x2687354aa00>"
      ]
     },
     "metadata": {},
     "output_type": "display_data"
    }
   ],
   "source": [
    "# Full program idea:\n",
    "# Find all G84 lines\n",
    "# Read G84 line and up to tool change\n",
    "# List all stats for the tool in a dict\n",
    "\n",
    "tappingCycleIndex = []\n",
    "for lineIndex, line in enumerate(lines):\n",
    "    if line.find(\"G84\") != -1:\n",
    "        tappingCycleIndex.append(lineIndex+1)\n",
    "\n",
    "allValues = []\n",
    "\n",
    "for i, tappingCycle in enumerate(tappingCycleIndex):\n",
    "    valueDict = {\"feed\":False, \"rpm\":False, \"tool\":False}\n",
    "    lineToRead = tappingCycle\n",
    "    while False in valueDict.values():\n",
    "        words = readLine(lines[lineToRead])\n",
    "        readWords(words, valueDict)\n",
    "        lineToRead -= 1\n",
    "    allValues.append(valueDict)\n",
    "\n",
    "print(allValues)\n"
   ]
  }
 ],
 "metadata": {
  "interpreter": {
   "hash": "cc4f6f030713593d3b14d7228889045db0665726e29f3a519144959e4f12e03e"
  },
  "kernelspec": {
   "display_name": "Python 3.9.10 64-bit (windows store)",
   "language": "python",
   "name": "python3"
  },
  "language_info": {
   "codemirror_mode": {
    "name": "ipython",
    "version": 3
   },
   "file_extension": ".py",
   "mimetype": "text/x-python",
   "name": "python",
   "nbconvert_exporter": "python",
   "pygments_lexer": "ipython3",
   "version": "3.9.10"
  },
  "orig_nbformat": 4
 },
 "nbformat": 4,
 "nbformat_minor": 2
}
