{
 "cells": [
  {
   "cell_type": "code",
   "execution_count": 2,
   "metadata": {},
   "outputs": [
    {
     "name": "stdout",
     "output_type": "stream",
     "text": [
      "['1000', '2000', '3000', '4000', '5000']\n"
     ]
    }
   ],
   "source": [
    "import os\n",
    "\n",
    "folders = os.listdir('gcode')\n",
    "print(folders)"
   ]
  },
  {
   "cell_type": "code",
   "execution_count": 3,
   "metadata": {},
   "outputs": [],
   "source": [
    "import random\n",
    "# Fill folders with dummy Gcode\n",
    "for dir in folders:\n",
    "    for i in range(1000):\n",
    "        with open(f\"gcode/{dir}/cgip{int(dir)+i}.nc\", 'w') as file:\n",
    "            file.write('Create a new text file!')\n",
    "        k = 0\n",
    "        opQty = random.randint(2,5)\n",
    "        for j in range(opQty-1):\n",
    "            if j < k : \n",
    "                print(k)\n",
    "                k = j\n",
    "            with open(f\"gcode/{dir}/cgip{int(dir)+i} -{j+1}.nc\", 'w') as file:\n",
    "                file.write('Create a new text file!')\n"
   ]
  },
  {
   "cell_type": "code",
   "execution_count": 45,
   "metadata": {},
   "outputs": [
    {
     "name": "stdout",
     "output_type": "stream",
     "text": [
      "gcode/3000/cgip3004.nc\n"
     ]
    }
   ],
   "source": [
    "partNumber = input(\"Enter a part number:\")\n",
    "\n",
    "fileName = f\"cgip{partNumber}\"\n",
    "folderName = f\"{partNumber[0]}000\"\n",
    "partDir = (f\"gcode/{folderName}/{fileName}.nc\")\n",
    "\n",
    "print(partDir)\n",
    "files = []\n",
    "# files.append(partDir)"
   ]
  },
  {
   "cell_type": "code",
   "execution_count": 46,
   "metadata": {},
   "outputs": [
    {
     "name": "stdout",
     "output_type": "stream",
     "text": [
      "File found\n",
      "4\n",
      "['gcode/3000/cgip3004.nc', 'gcode/3000/cgip3004 -1.nc', 'gcode/3000/cgip3004 -2.nc', 'gcode/3000/cgip3004 -3.nc', 'gcode/3000/cgip3004 -4.nc']\n"
     ]
    }
   ],
   "source": [
    "if os.path.isfile(f\"gcode/{folderName}/{fileName}.nc\") == True:\n",
    "    files.append(f\"gcode/{folderName}/{fileName}.nc\")\n",
    "    print(\"File found\")\n",
    "    for i in range(100):\n",
    "        if os.path.isfile(f\"gcode/{folderName}/{fileName} -{i+1}.nc\") == True:\n",
    "            files.append(f\"gcode/{folderName}/{fileName} -{i+1}.nc\")\n",
    "        else:\n",
    "            print(i)\n",
    "            break\n",
    "print(files)"
   ]
  },
  {
   "cell_type": "code",
   "execution_count": 48,
   "metadata": {},
   "outputs": [],
   "source": [
    "import shutil\n",
    "for j in files:\n",
    "    shutil.move(j,f\"fakeUSB/{j[11:]}\")"
   ]
  }
 ],
 "metadata": {
  "interpreter": {
   "hash": "cc4f6f030713593d3b14d7228889045db0665726e29f3a519144959e4f12e03e"
  },
  "kernelspec": {
   "display_name": "Python 3.9.10 64-bit (windows store)",
   "language": "python",
   "name": "python3"
  },
  "language_info": {
   "codemirror_mode": {
    "name": "ipython",
    "version": 3
   },
   "file_extension": ".py",
   "mimetype": "text/x-python",
   "name": "python",
   "nbconvert_exporter": "python",
   "pygments_lexer": "ipython3",
   "version": "3.9.10"
  },
  "orig_nbformat": 4
 },
 "nbformat": 4,
 "nbformat_minor": 2
}
